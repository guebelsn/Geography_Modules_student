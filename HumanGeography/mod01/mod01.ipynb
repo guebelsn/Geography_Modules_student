{
 "cells": [
  {
   "cell_type": "code",
   "execution_count": null,
   "metadata": {
    "deletable": false,
    "editable": false
   },
   "outputs": [],
   "source": [
    "# Initialize Otter\n",
    "import otter\n",
    "grader = otter.Notebook(\"mod01.ipynb\")"
   ]
  },
  {
   "cell_type": "markdown",
   "metadata": {},
   "source": [
    "# Module 1: Intro to Human Geography!\n",
    "\n",
    "### Welcome to `GEOG 102`\n",
    "\n",
    "In this interactive notebook, we will work as geographical data scientists who would like to answer questions, learn and/or make predictions by looking at data. The first step in this quest is to look at collected data, visualize the data and observe. This will bring up all kinds of questions.\n",
    "\n",
    "This activity's goal is to review some of the material presented in the videos and lectures of module 1 by:\n",
    "- Importing data collected by the World Trade Organization (WTO) and the Food and Agriculture Organization (FAO) of the United Nations\n",
    "- Focusing in on data of interest by looking at it in a tabular format\n",
    "- Visualizing the data using graphs, barcharts and maps\n",
    "- Observe, ask questions and learn from the data\n",
    "\n",
    "We will ...\n",
    "- Introduce jupyter notebooks as an interactive learning platform\n",
    "- Review some concepts and terminology around maps\n",
    "- Compare 2 countries (USA and Haiti), their location, colonial history & uneven economic regional growth\n",
    "\n",
    "TODO: review the section above with input from Geordie.\n",
    "\n"
   ]
  },
  {
   "cell_type": "markdown",
   "metadata": {},
   "source": [
    "# 1. What is a Jupyter notebook?\n",
    "This webpage is called a Jupyter notebook. A notebook is a place to write code and view their results, and also to write text.\n",
    "In a notebook, each rectangle containing text or code is called a *cell*.\n",
    "\n",
    "**Text cells** (like this one) can be edited by double-clicking on them. They're written in a simple format called [Markdown](http://daringfireball.net/projects/markdown/syntax) to add formatting and section headings.\n",
    "After you edit a text cell, click the \"run cell\" button at the top that looks like ▶| or hold down `shift` + `return` to confirm any changes. \n",
    "\n",
    "**Code cells** contain code in the Python 3 language. Running a code cell will execute all of the code it contains.\n",
    "To run the code in a code cell, first click on that cell to activate it.  It'll be highlighted with a little green or blue rectangle.  Next, either press ▶| or hold down `shift` + `return`."
   ]
  },
  {
   "cell_type": "markdown",
   "metadata": {},
   "source": [
    "**Activity 1:** This is a text cell. It is the cell type where we can type text that isn't code. Go ahead and double click in this cell and you will see that you can edit it. \n",
    "\n",
    "**Type something here:** ....\n"
   ]
  },
  {
   "cell_type": "markdown",
   "metadata": {},
   "source": [
    "**Activity 2:** Click on the code cell below and run the code:"
   ]
  },
  {
   "cell_type": "code",
   "execution_count": null,
   "metadata": {},
   "outputs": [],
   "source": [
    "#This cell is a code cell. It is where we can type code that can be executed.\n",
    "#The hashtag at the start of this line makes it so that this text is a comment not code. \n",
    "\n",
    "print(\"Hello, World! \\N{EARTH GLOBE ASIA-AUSTRALIA}!\")"
   ]
  },
  {
   "cell_type": "markdown",
   "metadata": {},
   "source": [
    "And this one:"
   ]
  },
  {
   "cell_type": "code",
   "execution_count": null,
   "metadata": {},
   "outputs": [],
   "source": [
    "# This coding cell imports some python libraries that we will be using throughout this notebook\n",
    "# Don't worry about what they are, just run this cell before running any other cells below this one\n",
    "from datascience import *\n",
    "import numpy as np\n",
    "import otter\n",
    "grader = otter.Notebook(\"mod01.ipynb\")\n",
    "\n",
    "%matplotlib inline\n",
    "import matplotlib.pyplot as plt\n",
    "plt.style.use('fivethirtyeight')\n",
    "\n",
    "import folium\n",
    "def createMap(locationInit, zoomInit, marker1Location, marker1Name, marker2Location, marker2Name):\n",
    "    myMap = folium.Map(location=locationInit, tiles=\"OpenStreetMap\", zoom_start= zoomInit)\n",
    "    folium.Marker(marker1Location, popup = marker1Name).add_to(myMap)\n",
    "    folium.Marker(location = marker2Location, popup = marker2Name).add_to(myMap)\n",
    "    return myMap\n",
    "\n",
    "from IPython.display import YouTubeVideo"
   ]
  },
  {
   "cell_type": "markdown",
   "metadata": {},
   "source": [
    "# 2. Comparing 2 locations and their colonial history\n",
    "Before you continue, make sure to watch the following 2 lectures posted on canvas:\n",
    "- Regional economic growth lecture! \n",
    "- Uneven economic development lecture: Haiti\n",
    "\n",
    "# 2.1 Maps\n",
    "TODO: Add image here\n",
    "In this section we will look at the map, the 2 first colonies in the Americas that become independent and their location. We will compare the difference in their geographies in terms of latitude, climate and discuss how this affected who settled there. \n",
    "In this section, we will look at how the location of the 2 first colonies in the Americas that become independent and their location: **The 13 colonies (early USA)** and **Haiti**. \n",
    "\n",
    "Both locations have similarities and differences when locating them on the map:\n",
    "\n",
    "**Question 2.1** Let's first have a look at their locations on the map! In the coding cell below:\n",
    "- Set **penn_lat** and **penn_long** equal to the latitude and longitude of Philadelphia, PA (the original capital of the 13 colonies)\n",
    "- Set **port_au_prince_lat** and **port_au_prince_long** equal to the latitude and longitude of Port-au-Prince, Haiti (the capital of Haiti)\n",
    "\n",
    "HINT: You can use [Google Maps](https://www.google.com/maps) and right click on a location to get the coordinates (latitude and longitude).\n"
   ]
  },
  {
   "cell_type": "code",
   "execution_count": null,
   "metadata": {
    "tags": []
   },
   "outputs": [],
   "source": [
    "#replace the ... with the correct latitudes and longitudes\n",
    "penn_lat = ...\n",
    "penn_long = ...\n",
    "port_au_prince_lat = ...\n",
    "port_au_prince_long = ...\n",
    "createMap([33,-100], 2, [port_au_prince_lat, port_au_prince_long], 'Port-au-Prince (Haiti)', [penn_lat, penn_long], 'Philadelphia, PA (13 Colonies)')"
   ]
  },
  {
   "cell_type": "code",
   "execution_count": null,
   "metadata": {
    "deletable": false,
    "editable": false
   },
   "outputs": [],
   "source": [
    "grader.check(\"q21\")"
   ]
  },
  {
   "cell_type": "markdown",
   "metadata": {},
   "source": [
    "**Question 2.2** Look at the map above. Which of the following statements is correct? \n",
    "\n",
    "Port-au-Prince (Haiti) and Philadephia, PA (USA) have...\n",
    "1. similar latitudes and similar longitudes.\n",
    "2. similar latitudes, but different longitudes.\n",
    "3. different latitudes, but similar longitudes.\n",
    "4. different latitudes and different longitudes.\n",
    "\n",
    "Answer in the code cell below, by setting the name (variable) **correct** equal to 1, 2, 3 or 4."
   ]
  },
  {
   "cell_type": "code",
   "execution_count": null,
   "metadata": {
    "tags": []
   },
   "outputs": [],
   "source": [
    "correct = ..."
   ]
  },
  {
   "cell_type": "code",
   "execution_count": null,
   "metadata": {
    "deletable": false,
    "editable": false
   },
   "outputs": [],
   "source": [
    "grader.check(\"q22\")"
   ]
  },
  {
   "cell_type": "markdown",
   "metadata": {},
   "source": [
    "Run the code cell below to watch the video \"Why all world maps are wrong\" and answer question 2.3."
   ]
  },
  {
   "cell_type": "code",
   "execution_count": null,
   "metadata": {},
   "outputs": [],
   "source": [
    "# How accurate is the weather forecast?\n",
    "# The original URL is: \n",
    "#https://youtu.be/kIID5FDi2JQ\n",
    "YouTubeVideo(\"kIID5FDi2JQ\")"
   ]
  },
  {
   "cell_type": "markdown",
   "metadata": {},
   "source": [
    "**Question 2.3:** What do geographers call the projection of the 2D map created after question 2.1?\n",
    "1. Mercator Projection\n",
    "2. True Projection\n",
    "3. Gall-Peters Projection\n",
    "4. Winkel Tripel Projection\n",
    "Answer in the code cell below, by setting the name (variable) **projection** equal to 1, 2, 3 or 4."
   ]
  },
  {
   "cell_type": "code",
   "execution_count": null,
   "metadata": {
    "tags": []
   },
   "outputs": [],
   "source": [
    "projection = ..."
   ]
  },
  {
   "cell_type": "code",
   "execution_count": null,
   "metadata": {
    "deletable": false,
    "editable": false
   },
   "outputs": [],
   "source": [
    "grader.check(\"q23\")"
   ]
  },
  {
   "cell_type": "markdown",
   "metadata": {},
   "source": [
    "# 2.2 Uneven Regional Economic Growth - USA versus Haiti\n",
    "\n",
    "In lecture, we have discussed the story of Haiti and the uneven economic development during and after colonization. \n",
    "\n",
    "## 2.2.1 History: What too few textbooks told you\n",
    "\n",
    "Before we look at some data. Let's run the code cell below to watch a TEDEd talk on the atlantic slave trade. This video will help with the next question 2.4."
   ]
  },
  {
   "cell_type": "code",
   "execution_count": null,
   "metadata": {},
   "outputs": [],
   "source": [
    "# The original URL is: \n",
    "# https://youtu.be/3NXC4Q_4JVg\n",
    "\n",
    "YouTubeVideo(\"3NXC4Q_4JVg\")"
   ]
  },
  {
   "cell_type": "markdown",
   "metadata": {},
   "source": [
    "TODO: Add a question about the video here\n",
    "\n",
    "**Question 2.4:** This is the question"
   ]
  },
  {
   "cell_type": "markdown",
   "metadata": {},
   "source": [
    "_Type your answer here, replacing this text._"
   ]
  },
  {
   "cell_type": "markdown",
   "metadata": {
    "deletable": false,
    "editable": false
   },
   "source": [
    "<!-- END QUESTION -->\n",
    "\n",
    "Now let's get started with some **data exploration**!\n",
    "\n",
    "## 2.2.1 Merchandise Export over the years\n",
    "\n",
    "We will focus on the economies of the USA and Haiti. The datasets used are from the World Trade Organization (WTO): https://stats.wto.org/."
   ]
  },
  {
   "cell_type": "code",
   "execution_count": null,
   "metadata": {},
   "outputs": [],
   "source": [
    "# Data comparing US versus haiti merchandise export between 1948 and 2023: Exports in million US $ \n",
    "# TODO: is this data useable for a question??\n",
    "exports_data = Table.read_table('WtoData_20240516_export.csv')\n",
    "exports_data"
   ]
  },
  {
   "cell_type": "markdown",
   "metadata": {},
   "source": [
    "TODO: Work with Geordie to come up with a good question based on this data... Can this data be used??"
   ]
  },
  {
   "cell_type": "code",
   "execution_count": null,
   "metadata": {},
   "outputs": [],
   "source": [
    "# Haiti merchandise export in millions of $\n",
    "exports_data.plot('Year', 'Haiti')\n",
    "Haiti_export_1948 = exports_data.column('Haiti').item(0)\n",
    "Haiti_export_2023 = exports_data.column('Haiti').item(75)\n",
    "growth_Haiti = round(Haiti_export_2023/Haiti_export_1948, 2)\n",
    "print('Export growth in millions of $ (1948 versus 2023):\\n')\n",
    "print('Haiti increased from '+ str(Haiti_export_1948) + ' to ' + \n",
    "      str(Haiti_export_2023)+' million $, growth factor = ' + str(growth_Haiti)+'\\n')\n",
    "# USA merchandise export in millions of $\n",
    "exports_data.plot('Year', 'USA')\n",
    "USA_export_1948 = exports_data.column('USA').item(0)\n",
    "USA_export_2023 = exports_data.column('USA').item(75)\n",
    "growth_USA = round(USA_export_2023/USA_export_1948, 2)\n",
    "print('USA increased from '+ str(USA_export_1948) + ' to ' + \n",
    "      str(USA_export_2023)+' million $, growth factor = ' + str(growth_USA))"
   ]
  },
  {
   "cell_type": "markdown",
   "metadata": {},
   "source": [
    "TODO: Discuss this with Geordie and add a question\n",
    "\n",
    "**Question 2.5:**\n",
    "Maybe we could ask students how the plots look different? Are there any decades in particular that show a difference? Why would this be?\n",
    "\n",
    "-> The plot for Haiti has a lot more noise (lots of ups and downs) compared to the plot for the US. This may imply an unstable economy.\n",
    "Notice Haiti's merchandise export numbers did not grow before 1970, followed by a some growth followed by a drastic dip in the 1990s. What happened in Haiti in the 1990s that affected Haiti's export numbers? The merchandise export did not start growing again until 2000."
   ]
  },
  {
   "cell_type": "code",
   "execution_count": null,
   "metadata": {
    "tags": []
   },
   "outputs": [],
   "source": [
    "test1 = ..."
   ]
  },
  {
   "cell_type": "code",
   "execution_count": null,
   "metadata": {
    "deletable": false,
    "editable": false
   },
   "outputs": [],
   "source": [
    "grader.check(\"q25\")"
   ]
  },
  {
   "cell_type": "markdown",
   "metadata": {},
   "source": [
    "## 2.2.3 The cost and affordability of a healthy diet\n",
    "\n",
    "Now let's look at the cost and affordability of a healthy diet in Haiti versus the US. TODO: Should we continue with a focus on Haiti or should we look at regions of the world or both??\n",
    "\n",
    "The following data comes the Food and Agriculture Organization of the United Nations https://www.fao.org/faostat/en/#data."
   ]
  },
  {
   "cell_type": "code",
   "execution_count": null,
   "metadata": {},
   "outputs": [],
   "source": [
    "#TODO: Should we add this video? Or another one? How to feed the world video:\n",
    "# The original URL is: \n",
    "# https://youtu.be/QloMOOG-bbE\n",
    "\n",
    "YouTubeVideo(\"QloMOOG-bbE\")"
   ]
  },
  {
   "cell_type": "code",
   "execution_count": null,
   "metadata": {},
   "outputs": [],
   "source": [
    "# Use site: https://www.fao.org/faostat/en/#data\n",
    "CAHD_data_USvsHaiti = Table.read_table('FAOSTAT_HealthyDiet_USvsHaiti.csv')\n",
    "CAHD_data_USvsHaiti = CAHD_data_USvsHaiti.select('Area', 'Item', 'Year', 'Unit','Value')\n",
    "CAHD_data_USvsHaiti.show()"
   ]
  },
  {
   "cell_type": "markdown",
   "metadata": {},
   "source": [
    "We will focus in on 2021. Run the cell below to compare the cost of a health diet per person per day in the USA versus Haiti.\n",
    "# TODO: Maybe we could compare 2017 with 2021? What do we see?"
   ]
  },
  {
   "cell_type": "code",
   "execution_count": null,
   "metadata": {},
   "outputs": [],
   "source": [
    "# What is the cost of a healthy diet per person per day in the US versus Haiti in 2021?\n",
    "CAHD_data_USvsHaiti.where('Item','Cost of a healthy diet (PPP dollar per person per day)').where('Year', 2021)"
   ]
  },
  {
   "cell_type": "markdown",
   "metadata": {},
   "source": [
    "Possible question: looking at the data above, is the cost for a healthy diet the same in the US as it is in Haiti? Compare the numbers for 2021."
   ]
  },
  {
   "cell_type": "code",
   "execution_count": null,
   "metadata": {},
   "outputs": [],
   "source": [
    "pop_percent_healthy = CAHD_data_USvsHaiti.where('Item','Percentage of the population unable to afford a healthy diet (percent)').select('Area','Year','Value')\n",
    "pop_percent_healthy.show()"
   ]
  },
  {
   "cell_type": "code",
   "execution_count": null,
   "metadata": {},
   "outputs": [],
   "source": [
    "pop_percent_avg = pop_percent_healthy.group('Area',np.average).select('Area', 'Value average').relabeled('Value average', 'percent unable to afford healthy diet')\n",
    "pop_percent_avg"
   ]
  },
  {
   "cell_type": "code",
   "execution_count": null,
   "metadata": {},
   "outputs": [],
   "source": [
    "# Looking at data from 2021\n",
    "pop_starch = CAHD_data_USvsHaiti.where('Item','Cost of starchy staples').select('Area','Value').relabeled('Value', 'Cost Starch staples') \n",
    "pop_animalsource = CAHD_data_USvsHaiti.where('Item','Cost of animal source foods').select('Area','Value').relabeled('Value', 'Cost Animal Source')\n",
    "pop_leg_nuts_seeds = CAHD_data_USvsHaiti.where('Item','Cost of legumes, nuts and seeds').select('Area','Value').relabeled('Value', 'Cost legumes/nuts/seeds')\n",
    "pop_vegetables = CAHD_data_USvsHaiti.where('Item','Cost of vegetables').select('Area','Value').relabeled('Value', 'Cost vegetables')\n",
    "pop_fruits = CAHD_data_USvsHaiti.where('Item','Cost of fruits').select('Area','Value').relabeled('Value', 'Cost fruits')\n",
    "pop_oils = CAHD_data_USvsHaiti.where('Item','Cost of oils and fats').select('Area','Value').relabeled('Value', 'Cost of oils and fats')\n",
    "pop_cost_foods = pop_starch.join('Area', pop_animalsource,'Area').join('Area', pop_leg_nuts_seeds, 'Area').join(\n",
    "    'Area', pop_vegetables, 'Area').join('Area', pop_fruits, 'Area').join('Area', pop_oils, 'Area')\n",
    "# Cost of food per category\n",
    "pop_cost_foods"
   ]
  },
  {
   "cell_type": "code",
   "execution_count": null,
   "metadata": {},
   "outputs": [],
   "source": [
    "pop_cost_foods.barh('Area')\n",
    "title_cost = plt.title('Cost in \\$ per person per day in 2021')"
   ]
  },
  {
   "cell_type": "markdown",
   "metadata": {},
   "source": [
    "**Question :** TODO add question"
   ]
  },
  {
   "cell_type": "code",
   "execution_count": null,
   "metadata": {
    "tags": []
   },
   "outputs": [],
   "source": [
    "todo = ..."
   ]
  },
  {
   "cell_type": "code",
   "execution_count": null,
   "metadata": {
    "deletable": false,
    "editable": false
   },
   "outputs": [],
   "source": [
    "grader.check(\"q26\")"
   ]
  },
  {
   "cell_type": "markdown",
   "metadata": {},
   "source": [
    "### Should we add section below or just focus on Haiti versus US?"
   ]
  },
  {
   "cell_type": "markdown",
   "metadata": {},
   "source": [
    "Taking a step back. Looking at the different continents.\n",
    "\n",
    "\n",
    "TODO: discuss with Geordie if we should include the part below on the different continents (maybe better to just focus on comparing US and Haiti?)"
   ]
  },
  {
   "cell_type": "code",
   "execution_count": null,
   "metadata": {},
   "outputs": [],
   "source": [
    "CAHD_data_regions = Table.read_table('FAOSTAT_HealthyDiet_regions.csv')\n",
    "CAHD_data_regions = CAHD_data_regions.select('Area', 'Item', 'Year', 'Unit','Value')\n",
    "CAHD_data_regions"
   ]
  },
  {
   "cell_type": "code",
   "execution_count": null,
   "metadata": {},
   "outputs": [],
   "source": [
    "pop_percent_healthy_regions = CAHD_data_regions.where('Item','Percentage of the population unable to afford a healthy diet (percent)').select('Area','Year','Value')\n",
    "pop_percent_healthy_regions.show()"
   ]
  },
  {
   "cell_type": "code",
   "execution_count": null,
   "metadata": {},
   "outputs": [],
   "source": [
    "pop_percent_avg_regions = pop_percent_healthy_regions.group('Area',np.average).select('Area', 'Value average').relabeled('Value average', 'percent unable to afford healthy diet')\n",
    "pop_percent_avg_regions"
   ]
  },
  {
   "cell_type": "code",
   "execution_count": null,
   "metadata": {},
   "outputs": [],
   "source": [
    "pop_percent_avg_regions.barh('Area')"
   ]
  },
  {
   "cell_type": "code",
   "execution_count": null,
   "metadata": {},
   "outputs": [],
   "source": [
    "pop_starch = CAHD_data_regions.where('Item','Cost of starchy staples').select('Area','Value').relabeled('Value', 'Cost Starch staples') # only data available for 2017\n",
    "pop_animalsource = CAHD_data_regions.where('Item','Cost of animal source foods').select('Area','Value').relabeled('Value', 'Cost Animal Source') # only data available for 2017\n",
    "pop_leg_nuts_seeds = CAHD_data_regions.where('Item','Cost of legumes, nuts and seeds').select('Area','Value').relabeled('Value', 'Cost legumes/nuts/seeds') # only data available for 2017\n",
    "pop_vegetables = CAHD_data_regions.where('Item','Cost of vegetables').select('Area','Value').relabeled('Value', 'Cost vegetables') # only data available for 2017\n",
    "pop_fruits = CAHD_data_regions.where('Item','Cost of fruits').select('Area','Value').relabeled('Value', 'Cost fruits') # only data available for 2017\n",
    "pop_oils = CAHD_data_regions.where('Item','Cost of oils and fats').select('Area','Value').relabeled('Value', 'Cost of oils and fats') # only data available for 2017\n",
    "pop_cost_foods = pop_starch.join('Area', pop_animalsource,'Area').join('Area', pop_leg_nuts_seeds, 'Area').join('Area', pop_vegetables, 'Area').join('Area', pop_fruits, 'Area').join('Area', pop_oils, 'Area')\n",
    "pop_cost_foods\n",
    "# cost unit: PPP $ per person per day\n",
    "healthy_diet_summary_regions = pop_percent_avg_regions.join('Area', pop_cost_foods, 'Area')\n",
    "healthy_diet_summary_regions\n"
   ]
  },
  {
   "cell_type": "code",
   "execution_count": null,
   "metadata": {},
   "outputs": [],
   "source": [
    "healthy_diet_summary_regions.drop('percent unable to afford healthy diet').barh('Area')"
   ]
  },
  {
   "cell_type": "markdown",
   "metadata": {},
   "source": [
    "**CONGRATULATIONS!** You just finished your first jupyter notebook assignment! \n",
    "\n",
    "We hope you enjoyed seeing the power of data and computer programming, tools that can help us understand how geography affects humans around the world!\n",
    "\n",
    "Be sure to...\n",
    "\n",
    "- run all of the tests and verify that they all pass, \n",
    "- choose **Download as PDF** from the **File** menu\n",
    "- submit the .pdf file on **canvas**."
   ]
  }
 ],
 "metadata": {
  "anaconda-cloud": {},
  "kernelspec": {
   "display_name": "Python 3 (ipykernel)",
   "language": "python",
   "name": "python3"
  },
  "language_info": {
   "codemirror_mode": {
    "name": "ipython",
    "version": 3
   },
   "file_extension": ".py",
   "mimetype": "text/x-python",
   "name": "python",
   "nbconvert_exporter": "python",
   "pygments_lexer": "ipython3",
   "version": "3.9.7"
  },
  "otter": {
   "OK_FORMAT": true,
   "tests": {
    "q21": {
     "name": "q21",
     "points": null,
     "suites": [
      {
       "cases": [
        {
         "code": ">>> 39 <= penn_lat <= 40\nTrue",
         "hidden": false,
         "locked": false
        },
        {
         "code": ">>> -76 <= penn_long <= -75\nTrue",
         "hidden": false,
         "locked": false
        },
        {
         "code": ">>> 18 <= port_au_prince_lat <= 19\nTrue",
         "hidden": false,
         "locked": false
        },
        {
         "code": ">>> -73 <= port_au_prince_long <= -72\nTrue",
         "hidden": false,
         "locked": false
        }
       ],
       "scored": true,
       "setup": "",
       "teardown": "",
       "type": "doctest"
      }
     ]
    },
    "q22": {
     "name": "q22",
     "points": null,
     "suites": [
      {
       "cases": [
        {
         "code": ">>> correct == 3\nTrue",
         "hidden": false,
         "locked": false
        }
       ],
       "scored": true,
       "setup": "",
       "teardown": "",
       "type": "doctest"
      }
     ]
    },
    "q23": {
     "name": "q23",
     "points": null,
     "suites": [
      {
       "cases": [
        {
         "code": ">>> projection == 1\nTrue",
         "hidden": false,
         "locked": false
        }
       ],
       "scored": true,
       "setup": "",
       "teardown": "",
       "type": "doctest"
      }
     ]
    },
    "q25": {
     "name": "q25",
     "points": null,
     "suites": [
      {
       "cases": [
        {
         "code": ">>> test1 == 0\nTrue",
         "hidden": false,
         "locked": false
        }
       ],
       "scored": true,
       "setup": "",
       "teardown": "",
       "type": "doctest"
      }
     ]
    },
    "q26": {
     "name": "q26",
     "points": null,
     "suites": [
      {
       "cases": [
        {
         "code": ">>> todo == 1\nTrue",
         "hidden": false,
         "locked": false
        }
       ],
       "scored": true,
       "setup": "",
       "teardown": "",
       "type": "doctest"
      }
     ]
    }
   }
  }
 },
 "nbformat": 4,
 "nbformat_minor": 2
}
