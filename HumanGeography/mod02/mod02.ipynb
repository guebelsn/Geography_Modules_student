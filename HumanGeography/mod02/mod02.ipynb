{
 "cells": [
  {
   "cell_type": "code",
   "execution_count": null,
   "metadata": {
    "deletable": false,
    "editable": false
   },
   "outputs": [],
   "source": [
    "# Initialize Otter\n",
    "import otter\n",
    "grader = otter.Notebook(\"mod02.ipynb\")"
   ]
  },
  {
   "cell_type": "markdown",
   "metadata": {},
   "source": [
    "# Human Geography: Development Geographies\n",
    "\n"
   ]
  },
  {
   "cell_type": "code",
   "execution_count": null,
   "metadata": {
    "ExecuteTime": {
     "end_time": "2018-04-11T12:12:38.902167Z",
     "start_time": "2018-04-11T12:12:38.883124Z"
    }
   },
   "outputs": [],
   "source": [
    "# Don't change this cell; just run it. If you need additional libraries for your project, you can add them to this cell.\n",
    "\n",
    "import numpy as np\n",
    "from datascience import *\n",
    "\n",
    "# These lines do some fancy plotting magic.\n",
    "import matplotlib\n",
    "%matplotlib inline\n",
    "import matplotlib.pyplot as plt\n",
    "plt.style.use('fivethirtyeight')\n",
    "import warnings\n",
    "warnings.simplefilter('ignore', FutureWarning)\n",
    "from matplotlib import patches\n",
    "from ipywidgets import interact, interactive, fixed\n",
    "import ipywidgets as widgets\n"
   ]
  },
  {
   "cell_type": "markdown",
   "metadata": {},
   "source": [
    "In the following cells we will look at the different socioeconomic and sociodemographic variables used to calculate the Human Capital Index (HCI)\n",
    "The data is from September 2020 from...."
   ]
  },
  {
   "cell_type": "code",
   "execution_count": null,
   "metadata": {},
   "outputs": [],
   "source": [
    "# In this cell load your data into a Table\n",
    "\n",
    "my_data_raw = Table().read_table('hci_data_september_2020.csv').select('Region','Income Group', 'Probability of Survival to Age 5', 'Expected Years of School', 'Harmonized Test Scores', 'Adult Survival Rate') # SOLUTION\n",
    "\n",
    "def generalize_incomeGroup(my_income_group):\n",
    "    \n",
    "    if my_income_group == 'Upper middle income':\n",
    "        my_income_group = 'High income'\n",
    "    elif my_income_group == 'Lower middle income':\n",
    "        my_income_group = 'Low income'\n",
    "    return my_income_group\n",
    "\n",
    "color_table = Table().with_columns(\n",
    "    'HIGH/LOW', make_array('High income', 'Low income'),\n",
    "    'Color', make_array('darkblue', 'gold')\n",
    ")\n",
    "\n",
    "income_HIGH_LOW = my_data_raw.apply(generalize_incomeGroup,'Income Group')\n",
    "my_data_raw = my_data_raw.with_column('HIGH/LOW',income_HIGH_LOW )\n",
    "my_data_raw = my_data_raw.join('HIGH/LOW', color_table)\n",
    "my_data_raw\n",
    "\n",
    "my_data_raw"
   ]
  },
  {
   "cell_type": "markdown",
   "metadata": {},
   "source": [
    "It is very difficult to look at this data in tabular format. Let's look at it by plotting 2 variables and looking at possible associations"
   ]
  },
  {
   "cell_type": "code",
   "execution_count": null,
   "metadata": {},
   "outputs": [],
   "source": [
    "# Without looking at the regions, can we see a correlation between the expected years of school and the survival rate\n",
    "my_data_raw.scatter('Expected Years of School', 'Adult Survival Rate')\n",
    "my_data_raw.scatter('Expected Years of School', 'Probability of Survival to Age 5')"
   ]
  },
  {
   "cell_type": "markdown",
   "metadata": {},
   "source": [
    "**Question 1.3** When looking at the different plots above, we can see some association between the different variable (probability of survival to 5, adult survival), which variable seems to be affecting the probability of survival the most? Explain in a couple of words.\n"
   ]
  },
  {
   "cell_type": "markdown",
   "metadata": {},
   "source": [
    "_Type your answer here, replacing this text._"
   ]
  },
  {
   "cell_type": "markdown",
   "metadata": {
    "deletable": false,
    "editable": false
   },
   "source": [
    "<!-- END QUESTION -->\n",
    "\n",
    "Now let's have a look by comparing the data by Income group (High versus Low income)."
   ]
  },
  {
   "cell_type": "code",
   "execution_count": null,
   "metadata": {},
   "outputs": [],
   "source": [
    "# my_data_raw.scatter('Expected Years of School', 'Adult Survival Rate', group=\"Income Group\")\n",
    "my_data_raw.scatter('Expected Years of School', 'Adult Survival Rate', group=\"HIGH/LOW\") \n",
    "my_data_raw.scatter('Adult Survival Rate', 'Probability of Survival to Age 5', group=\"HIGH/LOW\")\n",
    "#my_data_raw.scatter('Expected Years of School', 'Probability of Survival to Age 5', group=\"Income Group\")\n",
    "\n",
    "ax = plt.figure(figsize=(8,8)).add_subplot(111, projection='3d')\n",
    "ax.scatter(my_data_raw.column('Expected Years of School'), \n",
    "           my_data_raw.column('Adult Survival Rate'), \n",
    "           my_data_raw.column('Probability of Survival to Age 5'),\n",
    "           c = my_data_raw.column('Color'));\n",
    "\n"
   ]
  },
  {
   "cell_type": "markdown",
   "metadata": {
    "vscode": {
     "languageId": "raw"
    }
   },
   "source": [
    "TODO: Add question here"
   ]
  },
  {
   "cell_type": "code",
   "execution_count": null,
   "metadata": {
    "deletable": false,
    "editable": false
   },
   "outputs": [],
   "source": [
    "# Another way of visualizing\n",
    "my_data_raw.scatter('Expected Years of School', 'Adult Survival Rate', fit_line=True)\n",
    "\n"
   ]
  },
  {
   "cell_type": "markdown",
   "metadata": {},
   "source": [
    "TODO: Question??"
   ]
  },
  {
   "cell_type": "markdown",
   "metadata": {},
   "source": [
    "TODO: Add a section explaining correlation coefficient"
   ]
  },
  {
   "cell_type": "code",
   "execution_count": null,
   "metadata": {
    "ExecuteTime": {
     "end_time": "2018-04-04T09:57:57.365938Z",
     "start_time": "2018-04-04T09:57:57.357879Z"
    }
   },
   "outputs": [],
   "source": [
    "# Helper function to calculate correlation coefficient\n",
    "def standard_units(arr):\n",
    "    return (arr- np.mean(arr)) / np.std(arr)\n",
    "\n",
    "def correlation(tbl, col1, col2):\n",
    "    r = np.mean(standard_units(tbl.column(col1)) * standard_units(tbl.column(col2)))\n",
    "    return r\n"
   ]
  },
  {
   "cell_type": "code",
   "execution_count": null,
   "metadata": {},
   "outputs": [],
   "source": [
    "# Calculating the correlation coefficient for 'Expected Years of School' versus 'Adult Survival Rate' \n",
    "cor = correlation(my_data_raw, 'Expected Years of School', 'Adult Survival Rate')\n",
    "cor"
   ]
  },
  {
   "cell_type": "markdown",
   "metadata": {},
   "source": [
    "**Question:** TODO"
   ]
  },
  {
   "cell_type": "code",
   "execution_count": null,
   "metadata": {
    "tags": []
   },
   "outputs": [],
   "source": [
    "# Calculating the correlation coefficient for 'Expected Years of School' versus 'Probability of Survival to Age 5' \n",
    "cor = ...\n",
    "cor"
   ]
  },
  {
   "cell_type": "code",
   "execution_count": null,
   "metadata": {
    "deletable": false,
    "editable": false
   },
   "outputs": [],
   "source": [
    "grader.check(\"q1_4\")"
   ]
  },
  {
   "cell_type": "markdown",
   "metadata": {},
   "source": [
    "TODO: Add another question comparing the correlations?"
   ]
  },
  {
   "cell_type": "markdown",
   "metadata": {},
   "source": [
    "**Congratulations**: You're DONE with this assignment! Nice work. \n",
    "Time to submit."
   ]
  }
 ],
 "metadata": {
  "kernelspec": {
   "display_name": "Python 3",
   "language": "python",
   "name": "python3"
  },
  "language_info": {
   "codemirror_mode": {
    "name": "ipython",
    "version": 3
   },
   "file_extension": ".py",
   "mimetype": "text/x-python",
   "name": "python",
   "nbconvert_exporter": "python",
   "pygments_lexer": "ipython3",
   "version": "3.9.7"
  },
  "otter": {
   "OK_FORMAT": true,
   "tests": {
    "q1_4": {
     "name": "q1_4",
     "points": null,
     "suites": [
      {
       "cases": [
        {
         "code": ">>> # Correlation coefficient should be between or equal to -1 and 1;\n>>> -1 <= cor < 1\nTrue",
         "hidden": false,
         "locked": false
        }
       ],
       "scored": true,
       "setup": "",
       "teardown": "",
       "type": "doctest"
      }
     ]
    }
   }
  }
 },
 "nbformat": 4,
 "nbformat_minor": 1
}
