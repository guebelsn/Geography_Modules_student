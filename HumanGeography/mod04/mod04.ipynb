{
 "cells": [
  {
   "cell_type": "code",
   "execution_count": null,
   "metadata": {
    "deletable": false,
    "editable": false
   },
   "outputs": [],
   "source": [
    "# Initialize Otter\n",
    "import otter\n",
    "grader = otter.Notebook(\"mod04.ipynb\")"
   ]
  },
  {
   "cell_type": "code",
   "execution_count": null,
   "metadata": {},
   "outputs": [],
   "source": [
    "# This coding cell imports some python libraries that we will be using throughout this notebook\n",
    "# Don't worry about what they are, just run this cell before running any other cells below this one\n",
    "from datascience import *\n",
    "import numpy as np\n",
    "#import otter\n",
    "#grader = otter.Notebook(\"mod01.ipynb\")\n",
    "\n",
    "%matplotlib inline\n",
    "import matplotlib.pyplot as plt\n",
    "plt.style.use('fivethirtyeight')\n",
    "\n",
    "from IPython.display import YouTubeVideo"
   ]
  },
  {
   "cell_type": "markdown",
   "metadata": {},
   "source": [
    "# Module 4: Agriculture, Population and Migration\n",
    "\n",
    "\n",
    "TODO: rewrite the section above with input from Geordie after all of the sections are reviewed and done.\n",
    "\n",
    "\n"
   ]
  },
  {
   "cell_type": "markdown",
   "metadata": {},
   "source": [
    "# 1. Agriculture\n",
    "Agricultural Revolution 1, 2 & 3 (TODO: should we add any data focused on this?? Suggestions?)\n",
    "\n",
    "TODO: discuss if we need to include more in this section (e.g. looking at the potato, cheese, coffee...)\n",
    "## A Closer look at Corn (Maize)\n",
    "Before we dive into the data. Let's learn a little more about the history of corn.\n",
    "Run the coding cell below and watch the TEDed talk!\n"
   ]
  },
  {
   "cell_type": "code",
   "execution_count": null,
   "metadata": {},
   "outputs": [],
   "source": [
    "# The original URL is: \n",
    "# https://youtu.be/i6teBcfKpik\n",
    "\n",
    "YouTubeVideo(\"i6teBcfKpik\")"
   ]
  },
  {
   "cell_type": "code",
   "execution_count": null,
   "metadata": {},
   "outputs": [],
   "source": [
    "# Complete data\n",
    "corn_Production = Table.read_table('FAOSTAT_maizeProduction_World_Americas.csv')\n",
    "corn_Production.show(2)\n",
    "# World\n",
    "corn_Production_World = corn_Production.where('Area', 'World').where('Element','Production')\n",
    "corn_Production_World.plot('Year', 'Value')\n",
    "# TODO: decide if we want to add data on different parts of the Americas\n",
    "# corn_Production_North = corn_Production.where('Area', 'Northern America').where('Element','Production')\n",
    "# corn_Production_North.plot('Year', 'Value')\n",
    "# corn_Production_Central = corn_Production.where('Area', 'Central America').where('Element','Production')\n",
    "# corn_Production_Central.plot('Year', 'Value')\n",
    "# corn_Production_South = corn_Production.where('Area', 'South America').where('Element','Production')\n",
    "# corn_Production_South.plot('Year', 'Value')"
   ]
  },
  {
   "cell_type": "code",
   "execution_count": null,
   "metadata": {},
   "outputs": [],
   "source": []
  },
  {
   "cell_type": "code",
   "execution_count": null,
   "metadata": {},
   "outputs": [],
   "source": [
    "# Corn export quantity and value in the USA\n",
    "# Data from https://www.fao.org/faostat/en/#data/TCL\n",
    "# Trade>Crops & Livestoc products/USA/Export quantity/value\n",
    "corn_export_World= Table.read_table('FAOSTAT_Maize_Export_World.csv')\n",
    "corn_export_US = corn_export_World.where('Area','United States of America')\n",
    "corn_export_US.show(2)\n",
    "corn_export_quantity_US = corn_export_US.where('Element','Export Quantity').select('Year', 'Value').relabeled('Value','Maize Export Quantity')\n",
    "#corn_export_quantity_US.plot('Year', 'Maize Export Quantity')\n",
    "corn_export_value_US = corn_export_US.where('Element','Export Value').select('Year', 'Value').relabeled('Value','Maize Export Value')\n",
    "#corn_export_value_US.plot('Year', 'Maize Export Value')\n",
    "corn_export = corn_export_quantity_US.join('Year', corn_export_value_US, 'Year')\n",
    "corn_export.plot('Year')"
   ]
  },
  {
   "cell_type": "markdown",
   "metadata": {},
   "source": [
    "**Question:** Is there a specific year that pops out when looking at the visualization above? How does this correspond to the TEDed Talk on the history of corn? Do we see the same thing when looking it other countries? E.g. Mexico. "
   ]
  },
  {
   "cell_type": "code",
   "execution_count": null,
   "metadata": {},
   "outputs": [],
   "source": [
    "# Corn uses 2010 - now\n",
    "# Data from https://www.fao.org/faostat/en/#data/TCL\n",
    "# Food Balances>Food Balances(2010-)/USA/Food vs Feed vs Processed vs Exported vs Other uses\n",
    "corn_uses = Table.read_table('FAOSTAT_Maize&Products_FoodBalances.csv')\n",
    "corn_uses.show(3)\n",
    "corn_uses_country = corn_uses.where('Area', 'United States of America').select('Year','Element','Value')\n",
    "corn_uses_food= corn_uses_country.where('Element','Food').select('Year', 'Value').relabeled('Value','Food')\n",
    "#corn_uses_food.plot('Year', 'Food')\n",
    "corn_uses_feed= corn_uses_country.where('Element','Feed').select('Year', 'Value').relabeled('Value','Feed')\n",
    "#corn_uses_feed.plot('Year', 'Feed')\n",
    "corn_uses_processing= corn_uses_country.where('Element','Processing').select('Year', 'Value').relabeled('Value','Processing')\n",
    "#corn_uses_processing.plot('Year', 'Processing')\n",
    "corn_uses_other= corn_uses_country.where('Element','Other uses (non-food)').select('Year', 'Value').relabeled('Value','Other uses (non-food)')\n",
    "#corn_uses_other.plot('Year', 'Other uses (non-food)')\n",
    "corn_uses_export= corn_uses_country.where('Element','Export Quantity').select('Year', 'Value').relabeled('Value','Export Quantity')\n",
    "#corn_uses_other.plot('Year', 'Export Quantity')\n",
    "corn_uses_import= corn_uses_country.where('Element','Import Quantity').select('Year', 'Value').relabeled('Value','Import Quantity')\n",
    "#corn_uses_other.plot('Year', 'Import Quantity')\n",
    "corn_uses_country = corn_uses_food.join('Year', corn_uses_feed, 'Year').join(\n",
    "    'Year', corn_uses_processing, 'Year').join('Year', corn_uses_other, 'Year').join(\n",
    "        'Year', corn_uses_export, 'Year').join('Year', corn_uses_import, 'Year')\n",
    "corn_uses_country.plot('Year')"
   ]
  },
  {
   "cell_type": "markdown",
   "metadata": {},
   "source": [
    "**Question:** What is the main use of corn today? Compare the USA with Mexico? Explore another country??"
   ]
  },
  {
   "cell_type": "markdown",
   "metadata": {},
   "source": [
    "# 2. Population\n",
    "\n",
    "<img src=\"PopulationDensity.jpg\" alt=\"drawing\" width=\"400\" height=\"200\"/>\n",
    "\n",
    "Let's investigate and compare the population growth and its causes in different countries. \n",
    "We'll look at:\n",
    "- total world population over time\n",
    "- we will select a couple of countries of interest and look at their total population over time\n",
    "- Does this tell us anything about birth rates and death rates? The age of the population?\n",
    "- a better statistical view is a population pyramid: population by age\n",
    "\n",
    "## 2.1 World Population Over Time\n",
    "\n",
    "Data below from https://www.fao.org/faostat/en/#data"
   ]
  },
  {
   "cell_type": "code",
   "execution_count": null,
   "metadata": {},
   "outputs": [],
   "source": [
    "# Let's first look at the total world population by gender\n",
    "world_POP = Table.read_table('FAOSTAT_data_worldTotalPOP.csv')\n",
    "world_POP.show(3)\n"
   ]
  },
  {
   "cell_type": "code",
   "execution_count": null,
   "metadata": {},
   "outputs": [],
   "source": [
    "def plot_countryPOP_overTime(POP_table, countryName):\n",
    "    POP = POP_table.where('Area',countryName)\n",
    "    POP_all= POP.where('Element', \"Total Population - Both sexes\").select('Year', 'Value').relabeled('Value','Total')\n",
    "    POP_all_F = POP.where('Element', \"Total Population - Female\").select('Year', 'Value').relabeled('Value','Female')\n",
    "    POP_all_M = POP.where('Element', \"Total Population - Male\").select('Year', 'Value').relabeled('Value','Male')\n",
    "    combined = POP_all.join('Year', POP_all_F, 'Year').join('Year', POP_all_M, 'Year')\n",
    "    combined.plot('Year')\n",
    "plot_countryPOP_overTime(world_POP,'World')"
   ]
  },
  {
   "cell_type": "code",
   "execution_count": null,
   "metadata": {},
   "outputs": [],
   "source": [
    "world_POP_countries = Table.read_table('FAOSTAT_data_POP_Complete.csv')\n",
    "world_POP_countries.show(3)\n"
   ]
  },
  {
   "cell_type": "code",
   "execution_count": null,
   "metadata": {},
   "outputs": [],
   "source": [
    "# Let's focus in on the population in the United States of America.\n",
    "plot_countryPOP_overTime(world_POP_countries, 'United States of America')\n"
   ]
  },
  {
   "cell_type": "markdown",
   "metadata": {},
   "source": [
    "**Question:** In the coding cell below, change the variable `new_country_Name` to equal a different country (put the name in quotes as it should be a string type). Pick a country that was discussed in one of the course videos or lectures."
   ]
  },
  {
   "cell_type": "code",
   "execution_count": null,
   "metadata": {
    "tags": []
   },
   "outputs": [],
   "source": [
    "# TODO: change the ... to a country name. Make sure to write the name in quotes, just like the example above\n",
    "new_country_Name = ...\n",
    "plot_countryPOP_overTime(world_POP_countries, new_country_Name)"
   ]
  },
  {
   "cell_type": "markdown",
   "metadata": {},
   "source": [
    "**Question:** \n",
    "How does the population change over time in this country compared to the overall world population change? Can you explain this based on what you learned in lecture?"
   ]
  },
  {
   "cell_type": "markdown",
   "metadata": {},
   "source": [
    "**SOLUTION:**\n",
    "\n"
   ]
  },
  {
   "cell_type": "markdown",
   "metadata": {},
   "source": [
    "## 2.2 The Population Pyramid: a better way to investigate\n",
    "\n",
    "Although the above plots give us an idea of which country's population is still growing the most, it does not tell us information on why. Is it the birth rate, the death rate.\n",
    "This is where the population pyramid comes in handy.\n",
    "Run the coding cell below to learn more about population pyramids."
   ]
  },
  {
   "cell_type": "code",
   "execution_count": null,
   "metadata": {},
   "outputs": [],
   "source": [
    "# The original URL is: \n",
    "# https://youtu.be/RLmKfXwWQtE\n",
    "\n",
    "YouTubeVideo(\"RLmKfXwWQtE\")"
   ]
  },
  {
   "cell_type": "markdown",
   "metadata": {},
   "source": [
    "Data below from census data recorded on the International Database (IDB): https://www.census.gov/data-tools/demo/idb/#/pop?COUNTRY_YEAR=2024&COUNTRY_YR_ANIM=2024&menu=popViz&POP_YEARS=2024&popPages=BYAGE\n",
    "\n",
    "The IDB includes population estimates and projections for 227 countries and equivalent areas, plus 15,237 subnational areas."
   ]
  },
  {
   "cell_type": "code",
   "execution_count": null,
   "metadata": {},
   "outputs": [],
   "source": [
    "# This table includes population estimates for 2024 and was downloaded on 4/3/2024\n",
    "\n",
    "Int_Census_POP_2024 = Table.read_table('IDB_04-03-2024.csv')\n",
    "Int_Census_POP_2024"
   ]
  },
  {
   "cell_type": "code",
   "execution_count": null,
   "metadata": {},
   "outputs": [],
   "source": [
    "# Generic function to display statistics and population pyramid for 1 country\n",
    "\n",
    "def populationPyramid(countryName):\n",
    "    '''countryName is the name of a country of interest, data type is string\n",
    "        POP_data is the .csv file containing the data, data type is a string, note that the .csv file needs to be in the right format\n",
    "        year is the year of interest, make sure it matches the year in the table\n",
    "    '''\n",
    "    Int_Census_POP = Int_Census_POP_2024\n",
    "    year = 2024\n",
    "    POP_by_age = Int_Census_POP.where('Country/Area Name', countryName)\n",
    "    print(countryName+ ' Statistics:')\n",
    "    print('Total Population in million = ' + str(POP_by_age.row(0).item(4)/1000000))\n",
    "    print('Total Male Population in million = ' + str(POP_by_age.row(0).item(6)/1000000))\n",
    "    print('Female Population in million = ' + str(POP_by_age.row(0).item(8)/1000000))\n",
    "    POP_by_age = POP_by_age.take(range(1, POP_by_age.num_rows)) # Take of total\n",
    "    \n",
    "    # Create figure and axes\n",
    "    fig, ax = plt.subplots()\n",
    "    age_groups = POP_by_age.column('GROUP')\n",
    "\n",
    "    # Plot male population\n",
    "    ax.barh(age_groups, POP_by_age.column('Male Population'), color='blue', label='Male')\n",
    "\n",
    "    # Plot female population with negative values to make it left-aligned\n",
    "    ax.barh(age_groups, [-x for x in POP_by_age.column('Female Population')], color='purple', label='Female')\n",
    "\n",
    "    # Set labels and title\n",
    "    ax.set_xlabel('Population')\n",
    "    ax.set_ylabel('Age Group')\n",
    "    ax.set_title('Population Pyramid '+ countryName + ' ' + str(year))\n",
    "    ax.legend()\n",
    "\n",
    "    # Show plot\n",
    "    plt.show()  \n",
    "\n",
    "# Let's look at the US\n",
    "populationPyramid('United States')\n"
   ]
  },
  {
   "cell_type": "code",
   "execution_count": null,
   "metadata": {},
   "outputs": [],
   "source": [
    "from ipywidgets import interact, interactive, fixed, interact_manual\n",
    "\n",
    "# interact also allows you to pass in an array for a function argument. It will\n",
    "# then present a dropdown menu of options.\n",
    "uniqueCountryList = list(set(Int_Census_POP_2024.column('Country/Area Name')))\n",
    "uniqueCountryList.sort()\n",
    "_ = interact(populationPyramid, countryName = uniqueCountryList)\n"
   ]
  },
  {
   "cell_type": "markdown",
   "metadata": {},
   "source": [
    "Using the dropdown/interactive cell above to investigate 4 different countries (2 countries in the global North, 2 countries in the global south). Describe the population in these countries and the stage they are in. Use the 2 demographic transition models below as a guide.\n",
    "\n",
    "<img src=\"DemographicTransitionModel.png\" alt=\"drawing\" width=\"360\" height=\"200\"/>\n",
    "\n",
    "<img src=\"DemographicTransitionModel2.jpg\" alt=\"drawing\" width=\"300\" height=\"200\"/>\n"
   ]
  },
  {
   "cell_type": "markdown",
   "metadata": {},
   "source": [
    "Let's look at Birth and Death rates in different countries and how this affects the population growth"
   ]
  },
  {
   "cell_type": "markdown",
   "metadata": {},
   "source": [
    "#TODO: Discuss option with code below: should we make it interactive again like above? or should we have students change some of the code by hand?? \n",
    "Maybe the next dataset/section below is too much for this module??"
   ]
  },
  {
   "cell_type": "code",
   "execution_count": null,
   "metadata": {},
   "outputs": [],
   "source": [
    "#Helper function\n",
    "def convertToInt(numStr):\n",
    "    num = int(numStr.replace(',',''))\n",
    "    return num\n",
    "demo_transition = Table.read_table('IDB_Births_Deaths_Pop_1980_2023.csv').where('Births, both sexes', are.not_equal_to('--'))\n",
    "#[print(name) for name in demo_transition.column('Name')]\n",
    "country_trans = demo_transition.where('Name','Thailand').select('Year','Population','Births, both sexes', 'Deaths, both sexes')\n",
    "country_trans.show(3)\n",
    "demo_POP = country_trans.apply(convertToInt,'Population')/100\n",
    "demo_Births = country_trans.apply(convertToInt,'Births, both sexes')\n",
    "demo_Deaths = country_trans.apply(convertToInt,'Deaths, both sexes')\n",
    "demo_country = country_trans.with_columns('Total Births', demo_Births, 'Total Deaths', demo_Deaths,'Population/100',demo_POP).drop('Births, both sexes', 'Deaths, both sexes', 'Population')\n",
    "\n",
    "demo_country.plot('Year')\n"
   ]
  },
  {
   "cell_type": "markdown",
   "metadata": {},
   "source": [
    "TODO: Could possibly add a little section here on population in Santa Barbara??"
   ]
  },
  {
   "cell_type": "markdown",
   "metadata": {},
   "source": [
    "**CONGRATULATIONS!** You just finished the jupyter notebook assignment for module 4! \n",
    "Be sure to...\n",
    "\n",
    "- run all of the tests and verify that they all pass, \n",
    "- choose **Download as PDF** from the **File** menu\n",
    "- submit the .pdf file on **canvas**."
   ]
  }
 ],
 "metadata": {
  "anaconda-cloud": {},
  "kernelspec": {
   "display_name": "Python 3 (ipykernel)",
   "language": "python",
   "name": "python3"
  },
  "language_info": {
   "codemirror_mode": {
    "name": "ipython",
    "version": 3
   },
   "file_extension": ".py",
   "mimetype": "text/x-python",
   "name": "python",
   "nbconvert_exporter": "python",
   "pygments_lexer": "ipython3",
   "version": "3.9.7"
  },
  "otter": {
   "OK_FORMAT": true,
   "tests": {}
  }
 },
 "nbformat": 4,
 "nbformat_minor": 2
}
