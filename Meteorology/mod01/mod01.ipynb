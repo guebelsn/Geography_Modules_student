{
 "cells": [
  {
   "cell_type": "code",
   "execution_count": null,
   "metadata": {
    "deletable": false,
    "editable": false
   },
   "outputs": [],
   "source": [
    "# Initialize Otter\n",
    "import otter\n",
    "grader = otter.Notebook(\"mod01.ipynb\")"
   ]
  },
  {
   "cell_type": "markdown",
   "metadata": {},
   "source": [
    "# Module 1: Intro to Weather and Climate!\n",
    "\n",
    "### Welcome to `GEOG/ERTH 152`\n",
    "\n",
    "Meteorologists are physical geographers who research and try to make predictions. This cannot be done without looking at data.\n",
    "\n",
    "In this interactive notebook, we will work as geographical data scientists who would like to answer questions, learn and/or make predictions by looking at data. The first step in this quest is to look at collected data, visualize the data and observe. This will bring up all kinds of questions.\n",
    "\n",
    "This activity's goal is to review the material presented in the videos and lectures of module 1 by:\n",
    "- import data collected by NOAA\n",
    "- focus in on data of interest and look at it in table format\n",
    "- visualize the data using graphs, barcharts and maps\n",
    "- Observe and ask questions\n",
    "\n",
    "We will ...\n",
    "- introduce jupyter notebooks as an interactive learning platform\n",
    "- review the difference between weather and climate\n",
    "- compare and contrast weather patterns at different locations and discuss factors that affect climate\n",
    "- (introduce weather fronts)\n",
    "- Look at maximum temperature normals over 30 year intervals and describe our observations focusing in on California\n",
    "- learn about the composition of the earth's atmosphere\n",
    "- (Understand atmospheric pressure measurement)\n",
    "\n",
    "TODO: rewrite this after all of the sections are done.\n",
    "\n",
    "\n"
   ]
  },
  {
   "cell_type": "markdown",
   "metadata": {},
   "source": [
    "# 1. What is a Jupyter notebook?\n",
    "This webpage is called a Jupyter notebook. A notebook is a place to write code and view their results, and also to write text.\n",
    "In a notebook, each rectangle containing text or code is called a *cell*.\n",
    "\n",
    "**Text cells** (like this one) can be edited by double-clicking on them. They're written in a simple format called [Markdown](http://daringfireball.net/projects/markdown/syntax) to add formatting and section headings.\n",
    "After you edit a text cell, click the \"run cell\" button at the top that looks like ▶| or hold down `shift` + `return` to confirm any changes. \n",
    "\n",
    "**Code cells** contain code in the Python 3 language. Running a code cell will execute all of the code it contains.\n",
    "To run the code in a code cell, first click on that cell to activate it.  It'll be highlighted with a little green or blue rectangle.  Next, either press ▶| or hold down `shift` + `return`."
   ]
  },
  {
   "cell_type": "markdown",
   "metadata": {},
   "source": [
    "**Activity 1:** This is a text cell. It is the cell type where we can type text that isn't code. Go ahead and double click in this cell and you will see that you can edit it. \n",
    "\n",
    "**Type something here:** ....\n"
   ]
  },
  {
   "cell_type": "markdown",
   "metadata": {},
   "source": [
    "**Activity 2:** Click on the code cell below and run the code:"
   ]
  },
  {
   "cell_type": "code",
   "execution_count": null,
   "metadata": {},
   "outputs": [],
   "source": [
    "#This cell is a code cell. It is where we can type code that can be executed.\n",
    "#The hashtag at the start of this line makes it so that this text is a comment not code. \n",
    "\n",
    "print(\"Hello, World! \\N{EARTH GLOBE ASIA-AUSTRALIA}!\")"
   ]
  },
  {
   "cell_type": "markdown",
   "metadata": {},
   "source": [
    "And this one:"
   ]
  },
  {
   "cell_type": "code",
   "execution_count": null,
   "metadata": {},
   "outputs": [],
   "source": [
    "# This coding cell imports some python libraries that we will be using throughout this notebook\n",
    "# Don't worry about what they are, just run this cell before running any other cells below this one\n",
    "from datascience import *\n",
    "import numpy as np\n",
    "\n",
    "%matplotlib inline\n",
    "import matplotlib.pyplot as plots\n",
    "plots.style.use('fivethirtyeight')\n",
    "\n",
    "import folium\n",
    "def createMap(locationInit, zoomInit, marker1Location, marker1Name, marker2Location, marker2Name):\n",
    "    myMap = folium.Map(location=locationInit, tiles=\"OpenStreetMap\", zoom_start= zoomInit)\n",
    "    folium.Marker(marker1Location, popup = marker1Name).add_to(myMap)\n",
    "    folium.Marker(location = marker2Location, popup = marker2Name).add_to(myMap)\n",
    "    return myMap"
   ]
  },
  {
   "cell_type": "markdown",
   "metadata": {},
   "source": [
    "# 2. Weather vs. Climate \n",
    "<img src=\"weather_climate.jpg\" alt=\"drawing\" width=\"800\" height=\"150\"/>\n",
    "\n",
    "A collage of weather systems including thunderstorms, rain, heat waves, and fair weather. (Image credit: iStock) [link](http://www.noaa.gov/news/new-us-climate-normals-are-here-what-do-they-tell-us-about-climate-change)\n",
    "\n",
    "### Weather\n",
    "\n",
    "Run the code cell below and watch a recap on how we define \"Weather\"."
   ]
  },
  {
   "cell_type": "code",
   "execution_count": null,
   "metadata": {},
   "outputs": [],
   "source": [
    "from IPython.display import YouTubeVideo\n",
    "# Weather 101\n",
    "# The original URL is: \n",
    "# https://youtu.be/hjEBt8NT3CE\n",
    "\n",
    "YouTubeVideo(\"hjEBt8NT3CE\")\n"
   ]
  },
  {
   "cell_type": "markdown",
   "metadata": {},
   "source": [
    "If weather refers to short-term changes in temperature, precipitation, wind, etc., how accurate can you predict it? Think about it for a minute, then run the cell below to hear what Mona Chalabi has to say in her short TED talk."
   ]
  },
  {
   "cell_type": "code",
   "execution_count": null,
   "metadata": {},
   "outputs": [],
   "source": [
    "from IPython.display import YouTubeVideo\n",
    "# How accurate is the weather forecast?\n",
    "# The original URL is: \n",
    "#https://youtu.be/_H4C-08GkKo\n",
    "YouTubeVideo(\"_H4C-08GkKo\")"
   ]
  },
  {
   "cell_type": "markdown",
   "metadata": {},
   "source": [
    "### Climate\n",
    "How is Climate different from Weather? Run the code cell below and watch a short recap on how Climate is different from Weather."
   ]
  },
  {
   "cell_type": "code",
   "execution_count": null,
   "metadata": {},
   "outputs": [],
   "source": [
    "from IPython.display import YouTubeVideo\n",
    "# The original URL is: \n",
    "# https://youtu.be/zz_CRzcIT-Q\n",
    "\n",
    "YouTubeVideo(\"zz_CRzcIT-Q\")"
   ]
  },
  {
   "cell_type": "markdown",
   "metadata": {},
   "source": [
    "## 2.1 Comparing weather patterns/climate at 2 different locations"
   ]
  },
  {
   "cell_type": "markdown",
   "metadata": {},
   "source": [
    "In this section, we will look at temperature and precipitation patterns at 2 locations: **Cachuma Lake, California** and **Savannah, Georgia**. \n",
    "\n",
    "Both locations have similarities when locating them on the map: (TODO: maybe we can put this as a question)\n",
    "- Both locations have similar latitudes\n",
    "- Both locations are similar distances to the ocean\n",
    "\n",
    "**Question 2.1** Let's first have a look at their locations on the map! In the coding cell below:\n",
    "- Set **cachuma_lat** and **cachuma_long** equal to the latitude and longitude of Cachuma Lake\n",
    "- Set **savannah_lat** and **savannah_long** equal to the latitude and longitude of Savannah Airport\n",
    "\n",
    "HINT: You can use [Google Maps](https://www.google.com/maps) and right click on a location to get the coordinates (latitude and longitude)."
   ]
  },
  {
   "cell_type": "code",
   "execution_count": null,
   "metadata": {
    "tags": []
   },
   "outputs": [],
   "source": [
    "#replace the ... with the correct latitudes and longitudes\n",
    "\n",
    "cachuma_lat = ...\n",
    "cachuma_long = ...\n",
    "savannah_lat = ...\n",
    "savannah_long = ...\n",
    "print(f\"The latitude and longitude of Cachuma: ({cachuma_lat},{cachuma_long})\")\n",
    "print(f\"The latitude and longitude of Savannah: ({savannah_lat},{savannah_long})\")"
   ]
  },
  {
   "cell_type": "code",
   "execution_count": null,
   "metadata": {
    "deletable": false,
    "editable": false
   },
   "outputs": [],
   "source": [
    "grader.check(\"q21\")"
   ]
  },
  {
   "cell_type": "markdown",
   "metadata": {},
   "source": [
    "Let's look at where both places are on the map. The map below will use your answer for the question above, so make sure that the grade check passed before continuing!!\n",
    "\n",
    "The map is created using OpenStreetMap and the folium python module. This is an open online mapping system that you can use just as you would use Google Maps or any other online map. "
   ]
  },
  {
   "cell_type": "code",
   "execution_count": null,
   "metadata": {},
   "outputs": [],
   "source": [
    "# Let's check them out on a map\n",
    "createMap([33,-100], 3, [cachuma_lat, cachuma_long], 'Cachuma Lake', [savannah_lat, savannah_long], 'Savannah, GA')\n"
   ]
  },
  {
   "cell_type": "markdown",
   "metadata": {},
   "source": [
    "Now that we know where these locations are on the map, let's look at some data on temperature and precipitation.\n",
    "\n",
    "We will be looking at US Climate Normals available on [NOAA's website](https://www.ncei.noaa.gov/products/land-based-station/us-climate-normals). <img src=\"noaa_logo.png\" alt=\"drawing\" width=\"50\"/>\n",
    "\n",
    "As per the site: The U.S. Climate Normals are a large suite of data products that provide information about typical climate conditions for thousands of locations across the United States. Normals act both as a ruler to compare today’s weather and tomorrow’s forecast, and as a predictor of conditions in the near future. The official normals are calculated for a uniform 30 year period, and consist of annual/seasonal, monthly, daily, and hourly averages and statistics of temperature, precipitation, and other climatological variables from almost 15,000 U.S. weather stations.\n",
    " \n",
    "We will comparing the climate normals of the 2 locations: Cachuma Lake, CA and Savannah, GA for the 30 year period 1991 - 2020."
   ]
  },
  {
   "cell_type": "markdown",
   "metadata": {},
   "source": [
    "**STEP 1:** Gather the data from the NOAA site for both locations, and upload it in our notebook as a table\n",
    "Just run the cell below to see data tables for both locations."
   ]
  },
  {
   "cell_type": "code",
   "execution_count": null,
   "metadata": {},
   "outputs": [],
   "source": [
    "# Just run this cell, the code will read the data from a .csv file (comma separated values file) and save it in this notebook as a table\n",
    "# Loading cachuma and savannah data from 1991 -2020\n",
    "cachuma = Table.read_table('monthly-1991-2020-Cachuma.csv')\n",
    "savannah = Table.read_table('monthly-1991-2020-Savannah.csv')\n",
    "# Cleaning data to make it easy to use\n",
    "cachuma_temp = cachuma.select('DATE', 'MLY-PRCP-NORMAL', 'MLY-TAVG-NORMAL', 'MLY-TMAX-NORMAL', 'MLY-TMIN-NORMAL')\n",
    "cachuma_clean = cachuma_temp.relabel(['DATE', 'MLY-PRCP-NORMAL', 'MLY-TAVG-NORMAL', 'MLY-TMAX-NORMAL', 'MLY-TMIN-NORMAL'], \n",
    "                         ['MONTH', 'Cachuma Precipitation', 'Cachuma Avg Temp', 'Cachuma Max Temp', 'Cachuma Min Temp'])\n",
    "savannah_temp = savannah.select('DATE', 'MLY-PRCP-NORMAL', 'MLY-TAVG-NORMAL', 'MLY-TMAX-NORMAL', 'MLY-TMIN-NORMAL')\n",
    "savannah_clean = savannah_temp.relabel(['DATE', 'MLY-PRCP-NORMAL', 'MLY-TAVG-NORMAL', 'MLY-TMAX-NORMAL', 'MLY-TMIN-NORMAL'],\n",
    "                            ['MONTH', 'Savannah Precipitation', 'Savannah Avg Temp', 'Savannah Max Temp', 'Savannah Min Temp'])\n",
    "# Combining data from the 2 locations into 1 table\n",
    "combined_temp = cachuma_clean.drop('Cachuma Precipitation').with_columns(\"Savannah Avg Temp\", savannah_clean.column(\"Savannah Avg Temp\"),\n",
    "                                                                         \"Savannah Max Temp\", savannah_clean.column(\"Savannah Max Temp\"),\n",
    "                                                                         \"Savannah Min Temp\", savannah_clean.column(\"Savannah Min Temp\") )\n",
    "combined_temp.show()\n",
    "#TODO: should we change this to downloading the data straight from the database?\n",
    "#Getting the data directly from NOAA database (instead of downloading .csv)\n",
    "#cachuma = Table.read_table('https://www.ncei.noaa.gov/access/services/data/v1?dataset=normals-monthly-1991-2020&stations=USC00041253&format=csv&dataTypes=MLY-TMAX-NORMAL,MLY-TMIN-NORMAL,MLY-TAVG-NORMAL,MLY-PRCP-NORMAL,MLY-SNOW-NORMAL')\n",
    "\n",
    "combined_prec = cachuma_clean.select('MONTH','Cachuma Precipitation').with_columns(\"Savannah Precipitation\", savannah_clean.column(\"Savannah Precipitation\"))\n",
    "combined_prec.show()"
   ]
  },
  {
   "cell_type": "markdown",
   "metadata": {},
   "source": [
    "Take a moment to look at the tables above, do you see any patterns, similarities or differences? This is not always easy to answer by just looking at a table. The next step will help!\n",
    "\n",
    "**STEP 2**: Visualize the table data by using a bar chart or a plot. \n",
    "Just run the cell below to look at the minimum temperatures, maximum temperatures and precipitation at both locations"
   ]
  },
  {
   "cell_type": "code",
   "execution_count": null,
   "metadata": {},
   "outputs": [],
   "source": [
    "# Let's visualize\n",
    "combined_temp.select('MONTH', 'Cachuma Max Temp', 'Savannah Max Temp').barh(\"MONTH\")\n",
    "combined_temp.select('MONTH', 'Cachuma Min Temp', 'Savannah Min Temp').barh(\"MONTH\")\n",
    "# precipitation versus temps Let's visualize\n",
    "combined_prec.barh(\"MONTH\")"
   ]
  },
  {
   "cell_type": "markdown",
   "metadata": {
    "deletable": false,
    "editable": false
   },
   "source": [
    "<!-- BEGIN QUESTION -->\n",
    "\n",
    "**Question 2.2** Using the barcharts, compare both the temperature and precipitation data in both locations? Describe patterns, similarities and differences?"
   ]
  },
  {
   "cell_type": "markdown",
   "metadata": {},
   "source": [
    "_Type your answer here, replacing this text._"
   ]
  },
  {
   "cell_type": "markdown",
   "metadata": {
    "deletable": false,
    "editable": false
   },
   "source": [
    "<!-- END QUESTION -->\n",
    "\n",
    "<!-- BEGIN QUESTION -->\n",
    "\n",
    "**Question 2.3** Can you explain the similarities and/or differences? If you need a little help answering this question, revisit the following module 1 video (TODO: add link to module 1 video on warm/cold fronts, ocean currents, cyclone/hurricane season around Savannah, GA)"
   ]
  },
  {
   "cell_type": "markdown",
   "metadata": {},
   "source": [
    "_Type your answer here, replacing this text._"
   ]
  },
  {
   "cell_type": "markdown",
   "metadata": {
    "deletable": false,
    "editable": false
   },
   "source": [
    "<!-- END QUESTION -->\n",
    "\n",
    "# 3 Climate Change"
   ]
  },
  {
   "cell_type": "markdown",
   "metadata": {},
   "source": [
    "[What is climate change?](https://www.un.org/en/climatechange/what-is-climate-change)\n",
    "\n",
    "(TODO: Add a little intro)\n",
    "\n",
    "Run the code cell below and watch a short recap on how Climate is different from Weather."
   ]
  },
  {
   "cell_type": "code",
   "execution_count": null,
   "metadata": {},
   "outputs": [],
   "source": [
    "from IPython.display import YouTubeVideo\n",
    "# The original URL is: \n",
    "# https://youtu.be/G4H1N_yXBiA\n",
    "\n",
    "YouTubeVideo(\"G4H1N_yXBiA\")"
   ]
  },
  {
   "cell_type": "markdown",
   "metadata": {},
   "source": [
    "## 3.1 Maximum temperatures across the US\n",
    "\n",
    "In this section, we will look how maximum temperatures are changing across the US. The data was collected at different weather stations across the US. The data was obtained on the [NOAA website](https://www.ncei.noaa.gov/access/us-climate-normals/).   <img src=\"noaa_logo.png\" alt=\"drawing\" width=\"50\"/>\n",
    "\n",
    "You can learn more about normals [here](https://www.ncei.noaa.gov/products/land-based-station/us-climate-normals). \n",
    "\n",
    "We will compare temperatures during two 30 year timeframes:\n",
    "- **1981-2010**\n",
    "- **1991-2020**\n",
    "\n",
    "Note: there is a 20 year overlap between the 2 timeframes\n",
    "\n",
    "**STEP 1:** Gather the data from the NOAA site for both timeframes, and upload it in our jupyter notebook as a table.\n",
    "\n",
    "Just run the cell below to see the data in a table. Note that only 10 rows are showed (with lots of rows omitted: see below table). There are `79692` observations in this table!"
   ]
  },
  {
   "cell_type": "code",
   "execution_count": null,
   "metadata": {},
   "outputs": [],
   "source": [
    "# Table of normals of maximum temperatures (in degrees F) across the US\n",
    "climate = Table.read_table('Comparison_Normals_Maximum_Temperature.csv').drop('OLD_1981_2010')\n",
    "climate = climate.with_columns('degrees F 1981-2010', climate.column('NEW_1981_2010')/10,'degrees F 1991-2020', climate.column('NEW_1991_2020')/10).drop('NEW_1981_2010', 'NEW_1991_2020')\n",
    "difference_max_temps = climate.column('degrees F 1991-2020') - climate.column('degrees F 1981-2010')\n",
    "climate_increasedTemp = climate.with_column(\"Increase in Maximum Temperature\", difference_max_temps > 0)\n",
    "climate_increasedTemp"
   ]
  },
  {
   "cell_type": "markdown",
   "metadata": {},
   "source": [
    "Take a moment to look at the tables above. Looking at such a large table to make an observation is impossible. This is where a chart, plot or histogram comes in handy!\n",
    "\n",
    "If we work with the data and count how many stations recorded an increase between the first and second timeframe (= count the number of times we see **True** in the last column) and look at it as an overall percentage each month, we can get to the next step!\n",
    "\n",
    "**STEP 2**: Visualize the table data by using a bar chart or a plot. \n",
    "Just run the cell below to look at the % stations with increased max temperatures for each month.\n"
   ]
  },
  {
   "cell_type": "code",
   "execution_count": null,
   "metadata": {},
   "outputs": [],
   "source": [
    "# data NOAA, comparing normals of maximum temperatures across the US\n",
    "def barChartIncreasedTemp(state = ''):  \n",
    "    '''creates a bar chart of % stations showing an increase in temperatures \n",
    "    for a specific state, using the table given a table climate_increasedTemp\n",
    "    defined in cell above.If no specific state is defined, \n",
    "    the bar chart will be shown for all stations\n",
    "    ''' \n",
    "    if state != '':\n",
    "        increasedTempTable = climate_increasedTemp.where('STATE', state)\n",
    "    else:\n",
    "        increasedTempTable = climate_increasedTemp\n",
    "    state_str = f\"% {state} stations showing an increase in maximum temperature\"\n",
    "    month_temp_increase = increasedTempTable.pivot(\"Increase in Maximum Temperature\", \"MONTH\")\n",
    "    month_temp_increase.with_column(state_str, \n",
    "                                    month_temp_increase.column('True')*100/(month_temp_increase.column('True')+month_temp_increase.column('False'))).barh(\n",
    "                                        'MONTH', state_str)\n",
    "    \n",
    "#Let's look at all stations and the percentage of stations that show an increase in maximum temperature between\n",
    "# 1981-2010 and 1991-2020\n",
    "barChartIncreasedTemp()\n"
   ]
  },
  {
   "cell_type": "code",
   "execution_count": null,
   "metadata": {},
   "outputs": [],
   "source": [
    "#Let's focus in on California (if you would like to look at any other states, simply change CA to the abreviation of another state)\n",
    "barChartIncreasedTemp('CA')"
   ]
  },
  {
   "cell_type": "markdown",
   "metadata": {
    "deletable": false,
    "editable": false
   },
   "source": [
    "<!-- BEGIN QUESTION -->\n",
    "\n",
    "**Question 3.1** Do we see greater percentages in CA versus overall at all weather stations? Do you see a significant difference when comparing months? What could be some reasons for these differences?"
   ]
  },
  {
   "cell_type": "markdown",
   "metadata": {},
   "source": [
    "_Type your answer here, replacing this text._"
   ]
  },
  {
   "cell_type": "markdown",
   "metadata": {
    "deletable": false,
    "editable": false
   },
   "source": [
    "<!-- END QUESTION -->\n",
    "\n",
    "Now that we have looked at the percentage of stations that show an increase, let's use this data set to see which stations in California show the most significant differences between the 2 time periods. Run the cell below to see a table showing all stations with an increase in max temperature of 3 or more degrees."
   ]
  },
  {
   "cell_type": "code",
   "execution_count": null,
   "metadata": {},
   "outputs": [],
   "source": [
    "# Where in CA were the largest increases measured? Let's look at differences equal or greater than 3 degrees F.\n",
    "def displayTableWithStationsLargestIncrease(start_Table, state, show_diff_above_or_equal):\n",
    "    climate_increasedTemp = start_Table.where('STATE', state)\n",
    "    climate_increasedTemp.with_column(\n",
    "        'Max Temp Difference', climate_increasedTemp.column('degrees F 1991-2020')- climate_increasedTemp.column('degrees F 1981-2010')).where(\n",
    "            'Max Temp Difference', are.above_or_equal_to(show_diff_above_or_equal)).show()\n",
    "    \n",
    "difference_in_temp = 2\n",
    "displayTableWithStationsLargestIncrease(climate_increasedTemp, 'CA', difference_in_temp)"
   ]
  },
  {
   "cell_type": "markdown",
   "metadata": {},
   "source": [
    "As seen in the table above, many stations show an increase of 2 or more degrees F. Let's try to narrow down the 2 stations with the largest differences.\n",
    "\n",
    "**Question 3.2** Change the variable **difference_in_temp** to a value greater than 2 in the coding cell below and run the code Continue trying different numbers until the table only includes data from 2 stations."
   ]
  },
  {
   "cell_type": "code",
   "execution_count": null,
   "metadata": {
    "tags": []
   },
   "outputs": [],
   "source": [
    "difference_in_temp = ...\n",
    "displayTableWithStationsLargestIncrease(climate_increasedTemp, 'CA', difference_in_temp)"
   ]
  },
  {
   "cell_type": "code",
   "execution_count": null,
   "metadata": {
    "deletable": false,
    "editable": false
   },
   "outputs": [],
   "source": [
    "grader.check(\"q32\")"
   ]
  },
  {
   "cell_type": "markdown",
   "metadata": {},
   "source": [
    "**Question 3.3** Which two stations show the largest differences in maximum temperatures in CA. Do you see any differences in terms of monthly observations? What may this data suggest or what could possibly cause the difference? Share your thoughts."
   ]
  },
  {
   "cell_type": "markdown",
   "metadata": {},
   "source": [
    "_Type your answer here, replacing this text._"
   ]
  },
  {
   "cell_type": "markdown",
   "metadata": {
    "deletable": false,
    "editable": false
   },
   "source": [
    "<!-- END QUESTION -->\n",
    "\n",
    "Now that we have looked at this data in table format, let's look at the location of these 2 stations on the map. \n",
    "\n",
    "**Question 3.4** In the coding cell below:\n",
    "- Set max1_lat and max1_long equal to the latitude and longitude of the station with the greatest latitude of the 2 stations found\n",
    "- Set max2_lat and max2_long equal to the latitude and longitude of the station with the lowest latitude of the 2 stations found\n",
    "- Change the text 'station 1' to the name of the first station (make sure you put the name in quotes, in code this tells your program it is a string/text)\n",
    "- Change the text 'station 2' to the name of the first station (make sure you put the name in quotes, in code this tells your program it is a string/text)\n",
    "\n",
    "HINT: you can use [Google Maps](https://www.google.com/maps) and right click on a location to get the coordinates or you can just use google search to find the latitude and longitude of both stations"
   ]
  },
  {
   "cell_type": "code",
   "execution_count": null,
   "metadata": {
    "tags": []
   },
   "outputs": [],
   "source": [
    "#Add a map to show where the stations are\n",
    "max1_lat = ...\n",
    "max1_long = ...\n",
    "name1 = 'station 1'\n",
    "max2_lat = ...\n",
    "max2_long = ...\n",
    "name2 = 'station 2'\n",
    "\n",
    "#Let's look at the locations on the map\n",
    "createMap([39,-120], 6, [max1_lat, max1_long], name1, [max2_lat, max2_long], name2)\n",
    "\n"
   ]
  },
  {
   "cell_type": "code",
   "execution_count": null,
   "metadata": {
    "deletable": false,
    "editable": false
   },
   "outputs": [],
   "source": [
    "grader.check(\"q34\")"
   ]
  },
  {
   "cell_type": "markdown",
   "metadata": {},
   "source": [
    "**Question** Describe what you notice about the 2 locations. "
   ]
  },
  {
   "cell_type": "markdown",
   "metadata": {},
   "source": [
    "_Type your answer here, replacing this text._"
   ]
  },
  {
   "cell_type": "markdown",
   "metadata": {
    "deletable": false,
    "editable": false
   },
   "source": [
    "<!-- END QUESTION -->\n",
    "\n",
    "# 4. Composition of the Earth's atmosphere\n",
    "\n",
    "TODO: Add text or video link to recap the difference between variable gases (greenhouse gases) and fixed gases\n",
    "\n",
    "In this section, we are going to focus on Carbon Dioxide (CO2). \n",
    "\n",
    "We will look at:\n",
    "- monthly variations in CO2 values over 1 year\n",
    "- CO2 values variations over 15 years\n",
    "\n",
    "The NOAA data used in sections 3.1 and 3.2 represents CO2 levels recorded as mole fraction reported in units of micromol mol-1 (10-6 mol per mol of dry air); abbreviated as ppm (parts per million). Data found [here](https://gml.noaa.gov/dv/data/index.php)\n",
    "\n",
    "Let's observe and look at trends throughout the year as well as changes over time. "
   ]
  },
  {
   "cell_type": "code",
   "execution_count": null,
   "metadata": {},
   "outputs": [],
   "source": [
    "# Video on the eath's atmosphere and the different layers\n",
    "from IPython.display import YouTubeVideo\n",
    "# The original URL is: \n",
    "# https://youtu.be/l-dZvRKIl6s\n",
    "\n",
    "#YouTubeVideo(\"l-dZvRKIl6s\")\n",
    "\n",
    "\n",
    "# Video on the air we breath and polutants:\n",
    "# https://youtu.be/xEodej_M7TI\n",
    "#YouTubeVideo(\"xEodej_M7TI\")\n",
    "\n",
    "# Video \"What is the greenhouse effect?\" from Module 2\n",
    "# https://youtu.be/SN5-DnOHQmE\n",
    "YouTubeVideo(\"SN5-DnOHQmE\")\n",
    "\n",
    "# What is the best video for showing the difference between fixed and variable gases in the atmosphere??\n"
   ]
  },
  {
   "cell_type": "markdown",
   "metadata": {},
   "source": [
    "## 4.1 Monthly variations of CO2\n",
    "\n",
    "Let's look at data from 2 locations in California: Los Angeles (data from 2016) and Walnut Grove (data from 2022). The coding cell below loads the data from two .csv files, organizes the data in 2 tables of monthly averages, combines the tables and plots the monthly averages.\n",
    "\n",
    "Run the cell to visualize the data.  "
   ]
  },
  {
   "cell_type": "code",
   "execution_count": null,
   "metadata": {},
   "outputs": [],
   "source": [
    "#Let's look at 1 year of data (2016) for Los Angeles\n",
    "LA_CO2 = Table.read_table('LA_CO2.csv')\n",
    "LA_CO2_2016 = LA_CO2.select('year','month','value').where('year',2016)\n",
    "LA_CO2_2016_means = LA_CO2_2016.drop('year').group('month', np.mean).relabel('value mean', 'average CO2 (in ppm) - Los Angeles, CA 2016')\n",
    "\n",
    "# Let's look at 1 year of data (2022) for Walnut Grove, CA is between San Francisco and Sacramento\n",
    "WalnutGrove_CO2 = Table.read_table('WalnutGrove_CO2.csv')\n",
    "WalnutGrove_CO2_2022 = WalnutGrove_CO2.select('year','month','value').where('year',2022)\n",
    "WalnutGrove_CO2_2022_means = WalnutGrove_CO2_2022.drop('year').group('month', np.mean).relabel('value mean', 'average CO2 (in ppm) - Walnut Grove, CA 2022')\n",
    "\n",
    "# Let's combine both tables and plot the data\n",
    "combined_table = LA_CO2_2016_means.join('month', WalnutGrove_CO2_2022_means)\n",
    "combined_table.plot('month')"
   ]
  },
  {
   "cell_type": "markdown",
   "metadata": {},
   "source": [
    "**Question 4.1** When looking at the plots above, do you observe any trends? Do you see a difference between summer and winter? Share your thoughts on why this may be so?"
   ]
  },
  {
   "cell_type": "markdown",
   "metadata": {},
   "source": [
    "_Type your answer here, replacing this text._"
   ]
  },
  {
   "cell_type": "markdown",
   "metadata": {
    "deletable": false,
    "editable": false
   },
   "source": [
    "<!-- END QUESTION -->\n",
    "\n",
    "## 4.2 Changes in average CO2 levels over 15 years (2008 - 2022)\n",
    "Now that we have looked at monthly trends of CO2 over the course of 1 year. Let's look at changes over 15 years. For this section, we will look at data collected at a station in Walnut Grove, CA."
   ]
  },
  {
   "cell_type": "code",
   "execution_count": null,
   "metadata": {},
   "outputs": [],
   "source": [
    "# Data over 15 years (2008 - 2022) Walnut Grove, CA is between San Francisco and Sacramento\n",
    "WalnutGrove_CO2 = Table.read_table('WalnutGrove_CO2.csv')\n",
    "WalnutGrove_CO2\n",
    "WalnutGrove_CO2_decade = WalnutGrove_CO2.select('year','month','value').where('year',are.between_or_equal_to(2008,2022))\n",
    "WalnutGrove_CO2_decade_means = WalnutGrove_CO2_decade.drop('month').group('year',np.average).relabel('value average', 'CO2 average (in ppm)')\n",
    "WalnutGrove_CO2_decade_means.scatter('year', fit_line = True)\n"
   ]
  },
  {
   "cell_type": "markdown",
   "metadata": {},
   "source": [
    "**Question 4.2** How are CO2 levels changing from 2008 to 2022? Share your thoughts?"
   ]
  },
  {
   "cell_type": "markdown",
   "metadata": {},
   "source": [
    "_Type your answer here, replacing this text._"
   ]
  },
  {
   "cell_type": "markdown",
   "metadata": {
    "deletable": false,
    "editable": false
   },
   "source": [
    "<!-- END QUESTION -->\n",
    "\n",
    "**CONGRATULATIONS!** You just finished your first jupyter notebook assignment! \n",
    "\n",
    "We hope you enjoyed seeing the power of data and computer programming, tools that can help us understand weather and climate!\n",
    "\n",
    "Be sure to...\n",
    "\n",
    "- run all of the tests and verify that they all pass, \n",
    "- choose **Download as PDF** from the **File** menu\n",
    "- submit the .pdf file on **canvas**."
   ]
  },
  {
   "cell_type": "code",
   "execution_count": null,
   "metadata": {},
   "outputs": [],
   "source": [
    "#TODO: possibly adding data showing CFCs max in the 1980s and decreased??\n",
    "# TODO: possibly adding a section on barometer data (atmospheric pressure)\n"
   ]
  }
 ],
 "metadata": {
  "anaconda-cloud": {},
  "kernelspec": {
   "display_name": "Python 3 (ipykernel)",
   "language": "python",
   "name": "python3"
  },
  "language_info": {
   "codemirror_mode": {
    "name": "ipython",
    "version": 3
   },
   "file_extension": ".py",
   "mimetype": "text/x-python",
   "name": "python",
   "nbconvert_exporter": "python",
   "pygments_lexer": "ipython3",
   "version": "3.9.7"
  },
  "otter": {
   "OK_FORMAT": true,
   "tests": {
    "q21": {
     "name": "q21",
     "points": null,
     "suites": [
      {
       "cases": [
        {
         "code": ">>> 34 <= cachuma_lat <= 35\nTrue",
         "hidden": false,
         "locked": false
        },
        {
         "code": ">>> -120 <= cachuma_long <= -119\nTrue",
         "hidden": false,
         "locked": false
        },
        {
         "code": ">>> 32 <= savannah_lat <= 33\nTrue",
         "hidden": false,
         "locked": false
        },
        {
         "code": ">>> -82 <= savannah_long <= -81\nTrue",
         "hidden": false,
         "locked": false
        }
       ],
       "scored": true,
       "setup": "",
       "teardown": "",
       "type": "doctest"
      }
     ]
    },
    "q32": {
     "name": "q32",
     "points": null,
     "suites": [
      {
       "cases": [
        {
         "code": ">>> 4.5 <= difference_in_temp <= 5.5\nTrue",
         "hidden": false,
         "locked": false
        },
        {
         "code": ">>> \n",
         "hidden": false,
         "locked": false
        }
       ],
       "scored": true,
       "setup": "",
       "teardown": "",
       "type": "doctest"
      }
     ]
    },
    "q34": {
     "name": "q34",
     "points": null,
     "suites": [
      {
       "cases": [
        {
         "code": ">>> \n>>> 41 <= max1_lat <= 42\nTrue",
         "hidden": false,
         "locked": false
        },
        {
         "code": ">>> -124 <= max1_long <= -123\nTrue",
         "hidden": false,
         "locked": false
        },
        {
         "code": ">>> 36 <= max2_lat <= 37\nTrue",
         "hidden": false,
         "locked": false
        },
        {
         "code": ">>> -120 <= max2_long <= -119\nTrue",
         "hidden": false,
         "locked": false
        }
       ],
       "scored": true,
       "setup": "",
       "teardown": "",
       "type": "doctest"
      }
     ]
    }
   }
  }
 },
 "nbformat": 4,
 "nbformat_minor": 2
}
